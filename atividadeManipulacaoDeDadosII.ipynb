{
 "cells": [
  {
   "cell_type": "markdown",
   "metadata": {},
   "source": [
    "# Atividade de Manipulação de dados com Panda II"
   ]
  },
  {
   "cell_type": "markdown",
   "metadata": {},
   "source": [
    "Instalar dependencias"
   ]
  },
  {
   "cell_type": "code",
   "execution_count": 2,
   "metadata": {},
   "outputs": [
    {
     "name": "stdout",
     "output_type": "stream",
     "text": [
      "Defaulting to user installation because normal site-packages is not writeable\n",
      "Collecting pandas\n",
      "  Downloading pandas-2.2.3-cp313-cp313-win_amd64.whl.metadata (19 kB)\n",
      "Collecting openpyxl\n",
      "  Downloading openpyxl-3.1.5-py2.py3-none-any.whl.metadata (2.5 kB)\n",
      "Collecting numpy>=1.26.0 (from pandas)\n",
      "  Downloading numpy-2.1.3-cp313-cp313-win_amd64.whl.metadata (60 kB)\n",
      "Requirement already satisfied: python-dateutil>=2.8.2 in c:\\users\\milton junior\\appdata\\roaming\\python\\python313\\site-packages (from pandas) (2.9.0.post0)\n",
      "Collecting pytz>=2020.1 (from pandas)\n",
      "  Downloading pytz-2024.2-py2.py3-none-any.whl.metadata (22 kB)\n",
      "Collecting tzdata>=2022.7 (from pandas)\n",
      "  Downloading tzdata-2024.2-py2.py3-none-any.whl.metadata (1.4 kB)\n",
      "Collecting et-xmlfile (from openpyxl)\n",
      "  Downloading et_xmlfile-2.0.0-py3-none-any.whl.metadata (2.7 kB)\n",
      "Requirement already satisfied: six>=1.5 in c:\\users\\milton junior\\appdata\\roaming\\python\\python313\\site-packages (from python-dateutil>=2.8.2->pandas) (1.16.0)\n",
      "Downloading pandas-2.2.3-cp313-cp313-win_amd64.whl (11.5 MB)\n",
      "   ---------------------------------------- 0.0/11.5 MB ? eta -:--:--\n",
      "   -- ------------------------------------- 0.8/11.5 MB 5.6 MB/s eta 0:00:02\n",
      "   ------- -------------------------------- 2.1/11.5 MB 6.9 MB/s eta 0:00:02\n",
      "   ------------ --------------------------- 3.7/11.5 MB 6.7 MB/s eta 0:00:02\n",
      "   ----------------- ---------------------- 5.0/11.5 MB 6.7 MB/s eta 0:00:01\n",
      "   -------------------- ------------------- 5.8/11.5 MB 6.2 MB/s eta 0:00:01\n",
      "   ------------------------ --------------- 7.1/11.5 MB 6.1 MB/s eta 0:00:01\n",
      "   ---------------------------- ----------- 8.1/11.5 MB 6.0 MB/s eta 0:00:01\n",
      "   -------------------------------- ------- 9.4/11.5 MB 6.1 MB/s eta 0:00:01\n",
      "   -------------------------------------- - 11.0/11.5 MB 6.1 MB/s eta 0:00:01\n",
      "   ---------------------------------------- 11.5/11.5 MB 6.0 MB/s eta 0:00:00\n",
      "Downloading openpyxl-3.1.5-py2.py3-none-any.whl (250 kB)\n",
      "Downloading numpy-2.1.3-cp313-cp313-win_amd64.whl (12.6 MB)\n",
      "   ---------------------------------------- 0.0/12.6 MB ? eta -:--:--\n",
      "   ---- ----------------------------------- 1.3/12.6 MB 6.9 MB/s eta 0:00:02\n",
      "   --------- ------------------------------ 2.9/12.6 MB 7.0 MB/s eta 0:00:02\n",
      "   -------------- ------------------------- 4.5/12.6 MB 7.1 MB/s eta 0:00:02\n",
      "   ------------------ --------------------- 5.8/12.6 MB 7.0 MB/s eta 0:00:01\n",
      "   ----------------------- ---------------- 7.3/12.6 MB 7.0 MB/s eta 0:00:01\n",
      "   --------------------------- ------------ 8.7/12.6 MB 6.9 MB/s eta 0:00:01\n",
      "   -------------------------------- ------- 10.2/12.6 MB 6.9 MB/s eta 0:00:01\n",
      "   ------------------------------------ --- 11.5/12.6 MB 6.8 MB/s eta 0:00:01\n",
      "   ---------------------------------------- 12.6/12.6 MB 6.6 MB/s eta 0:00:00\n",
      "Downloading pytz-2024.2-py2.py3-none-any.whl (508 kB)\n",
      "Downloading tzdata-2024.2-py2.py3-none-any.whl (346 kB)\n",
      "Downloading et_xmlfile-2.0.0-py3-none-any.whl (18 kB)\n",
      "Installing collected packages: pytz, tzdata, numpy, et-xmlfile, pandas, openpyxl\n",
      "Successfully installed et-xmlfile-2.0.0 numpy-2.1.3 openpyxl-3.1.5 pandas-2.2.3 pytz-2024.2 tzdata-2024.2\n",
      "Note: you may need to restart the kernel to use updated packages.\n"
     ]
    }
   ],
   "source": [
    "pip install pandas openpyxl"
   ]
  },
  {
   "cell_type": "markdown",
   "metadata": {},
   "source": [
    "Importar a biblioteca Pandas"
   ]
  },
  {
   "cell_type": "code",
   "execution_count": 3,
   "metadata": {},
   "outputs": [],
   "source": [
    "import pandas as pd"
   ]
  },
  {
   "cell_type": "markdown",
   "metadata": {},
   "source": [
    "Carregar o arquivo dos consoles"
   ]
  },
  {
   "cell_type": "code",
   "execution_count": 5,
   "metadata": {},
   "outputs": [],
   "source": [
    "file_path = r\"C:\\\\Users\\\\Milton Junior\\\\Downloads\\\\game consoles.xlsx\"\n",
    "data = pd.ExcelFile(file_path)"
   ]
  },
  {
   "cell_type": "markdown",
   "metadata": {},
   "source": [
    "Carregar a Aba Consoles"
   ]
  },
  {
   "cell_type": "code",
   "execution_count": 6,
   "metadata": {},
   "outputs": [],
   "source": [
    "consoles_df = data.parse('consoles')"
   ]
  },
  {
   "cell_type": "markdown",
   "metadata": {},
   "source": [
    "Contar consoles por companhia"
   ]
  },
  {
   "cell_type": "code",
   "execution_count": 7,
   "metadata": {},
   "outputs": [],
   "source": [
    "company_counts = consoles_df['Company'].value_counts().reset_index()\n",
    "company_counts.columns = ['Company', 'qtd']"
   ]
  },
  {
   "cell_type": "markdown",
   "metadata": {},
   "source": [
    "Ordenando os consoles de forma decrescente"
   ]
  },
  {
   "cell_type": "code",
   "execution_count": 8,
   "metadata": {},
   "outputs": [],
   "source": [
    "company_counts_sorted = company_counts.sort_values(by='qtd', ascending=False).reset_index(drop=True) "
   ]
  },
  {
   "cell_type": "markdown",
   "metadata": {},
   "source": [
    "Cria coluna Market Value"
   ]
  },
  {
   "cell_type": "code",
   "execution_count": 9,
   "metadata": {},
   "outputs": [],
   "source": [
    "market_values = {\n",
    "    'Nintendo': 22615, 'Sega': 10391, 'Sony': 7177, 'Atari': 4160,\n",
    "    'Microsoft': 3154, 'Coleco': 767, 'Tectoy': 2538, 'Bandai': 913,\n",
    "    'Magnavox/Philips': 693, 'Mattel': 548, 'Micro Genius': 689,\n",
    "    'NEC': 387, 'NEC/Hudson Soft(note 6)': 547, 'Nokia': 637, 'Philips': 899\n",
    "}"
   ]
  },
  {
   "cell_type": "markdown",
   "metadata": {},
   "source": [
    "Mapeando os valores de mercado"
   ]
  },
  {
   "cell_type": "code",
   "execution_count": 10,
   "metadata": {},
   "outputs": [],
   "source": [
    "company_counts_sorted['Market Value'] = company_counts_sorted['Company'].map(market_values)"
   ]
  },
  {
   "cell_type": "markdown",
   "metadata": {},
   "source": [
    "Calculando o valor médio por console"
   ]
  },
  {
   "cell_type": "code",
   "execution_count": 11,
   "metadata": {},
   "outputs": [],
   "source": [
    "market_value_mean = company_counts_sorted['Market Value'].mean()"
   ]
  },
  {
   "cell_type": "markdown",
   "metadata": {},
   "source": [
    "Imprimindo os resultados"
   ]
  },
  {
   "cell_type": "code",
   "execution_count": 12,
   "metadata": {},
   "outputs": [
    {
     "name": "stdout",
     "output_type": "stream",
     "text": [
      "                    Company  qtd  Market Value\n",
      "0                  Nintendo   17       22615.0\n",
      "1                      Sony    7        7177.0\n",
      "2                      Sega    7       10391.0\n",
      "3                 Microsoft    4        3154.0\n",
      "4                     Atari    4        4160.0\n",
      "5                    Tectoy    2        2538.0\n",
      "6                    Coleco    2         767.0\n",
      "7   NEC/Hudson Soft[note 6]    1           NaN\n",
      "8              Micro Genius    1         689.0\n",
      "9                    Mattel    1         548.0\n",
      "10                   Bandai    1         913.0\n",
      "11                    Nokia    1         637.0\n",
      "12         Magnavox/Philips    1         693.0\n",
      "13                      NEC    1         387.0\n",
      "14                  Philips    1         899.0\n",
      "Valor médio de Market Value por console: 3969.1428571428573\n"
     ]
    }
   ],
   "source": [
    "print(company_counts_sorted)\n",
    "print(f\"Valor médio de Market Value por console: {market_value_mean}\")"
   ]
  }
 ],
 "metadata": {
  "kernelspec": {
   "display_name": "Python 3",
   "language": "python",
   "name": "python3"
  },
  "language_info": {
   "codemirror_mode": {
    "name": "ipython",
    "version": 3
   },
   "file_extension": ".py",
   "mimetype": "text/x-python",
   "name": "python",
   "nbconvert_exporter": "python",
   "pygments_lexer": "ipython3",
   "version": "3.13.0"
  }
 },
 "nbformat": 4,
 "nbformat_minor": 2
}
